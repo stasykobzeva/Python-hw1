{
 "cells": [
  {
   "metadata": {},
   "cell_type": "markdown",
   "source": [
    "# This is a sample Jupyter Notebook\n",
    "\n",
    "Below is an example of a code cell. \n",
    "Put your cursor into the cell and press Shift+Enter to execute it and select the next one, or click !here goes the icon of the corresponding button in the gutter! button.\n",
    "To debug a cell, press Alt+Shift+Enter, or click !here goes the icon of the corresponding button in the gutter! button.\n",
    "\n",
    "Press Double Shift to search everywhere for classes, files, tool windows, actions, and settings.\n",
    "\n",
    "To learn more about Jupyter Notebooks in PyCharm, see [help](https://www.jetbrains.com/help/pycharm/jupyter-notebook-support.html).\n",
    "For an overview of PyCharm, go to Help -> Learn IDE features or refer to [our documentation](https://www.jetbrains.com/help/pycharm/getting-started.html)."
   ],
   "id": "8a77807f92f26ee"
  },
  {
   "metadata": {
    "ExecuteTime": {
     "end_time": "2024-09-16T07:29:38.233107Z",
     "start_time": "2024-09-16T07:29:32.414058Z"
    }
   },
   "cell_type": "code",
   "source": [
    "curYear = int(input()) # ввод года\n",
    "if curYear % 4 == 0 and curYear % 100 != 0 or curYear % 400 == 0:\n",
    "    print('Високосный')\n",
    "else :\n",
    "    print('Н)"
   ],
   "id": "687aba37c6439205",
   "outputs": [
    {
     "name": "stdout",
     "output_type": "stream",
     "text": [
      "No\n"
     ]
    }
   ],
   "execution_count": 3
  },
  {
   "metadata": {
    "ExecuteTime": {
     "end_time": "2024-09-16T14:06:45.626719Z",
     "start_time": "2024-09-16T14:06:39.823535Z"
    }
   },
   "cell_type": "code",
   "source": [
    "ticket = int(input())\n",
    "a1 = ticket % 10\n",
    "a2= ticket // 10 % 10\n",
    "a3= ticket // 100 % 10\n",
    "a4= ticket // 1000 % 10\n",
    "a5 = ticket // 10000 % 10\n",
    "a6 = ticket // 100000\n",
    "\n",
    "if (a1 + a2 + a3 == a4 + a5 + a6 ):\n",
    "    print('Yes')\n",
    "else:\n",
    "    print('No')"
   ],
   "id": "642105185ef290ea",
   "outputs": [
    {
     "name": "stdout",
     "output_type": "stream",
     "text": [
      "Yes\n"
     ]
    }
   ],
   "execution_count": 6
  },
  {
   "metadata": {},
   "cell_type": "code",
   "outputs": [],
   "execution_count": null,
   "source": "",
   "id": "fbc121e30a2defb3"
  }
 ],
 "metadata": {
  "kernelspec": {
   "display_name": "Python 3",
   "language": "python",
   "name": "python3"
  },
  "language_info": {
   "codemirror_mode": {
    "name": "ipython",
    "version": 2
   },
   "file_extension": ".py",
   "mimetype": "text/x-python",
   "name": "python",
   "nbconvert_exporter": "python",
   "pygments_lexer": "ipython2",
   "version": "2.7.6"
  }
 },
 "nbformat": 4,
 "nbformat_minor": 5
}
